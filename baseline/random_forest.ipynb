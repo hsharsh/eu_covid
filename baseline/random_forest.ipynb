{
 "cells": [
  {
   "cell_type": "markdown",
   "metadata": {},
   "source": [
    "<h2>CS 4780/5780 Final Project: </h2>\n",
    "<h3>COVID-19 Hospitalizations Prediction for EU Countries</h3>\n",
    "\n",
    "Names and NetIDs for your group members:"
   ]
  },
  {
   "cell_type": "markdown",
   "metadata": {},
   "source": [
    "<h3>Introduction:</h3>\n",
    "\n",
    "<p> The final project is about conducting a real-world machine learning project on your own, with everything that is involved. Unlike in the programming projects 1-5, where we gave you all the scaffolding and you just filled in the blanks, you now start from scratch. The programming project provide templates for how to do this, and the most recent video lectures summarize some of the tricks you will need (e.g. feature normalization, feature construction). So, this final project brings realism to how you will use machine learning in the real world.  </p>\n",
    "\n",
    "The task you will work on is predicting hospitalizations due to COVID-19. Although hospitalizations are directly related to COVID-19 cases, the different populations, timelines and reactionary measures of different EU countries result in different trends in hospitalization numbers. In this project you will bring the power of machine learning to make predictions for the country-level hospitalizations using COVID-19 age group case data and also previous hospitalization data. There will be two tasks, one will be a basic problem that will require you to use methods learned in class. The second task will be more difficult and will require some additional intuition and insight. <b>Please read the project description PDF file carefully and follow the instructions there. Also make sure you write your code and answers to all the questions in this Jupyter Notebook </b> </p>\n",
    "<p>\n"
   ]
  },
  {
   "cell_type": "markdown",
   "metadata": {},
   "source": [
    "<h2>Part 1: Basics</h2><p>"
   ]
  },
  {
   "cell_type": "markdown",
   "metadata": {},
   "source": [
    "<h3>1.1 Import:</h3><p>\n",
    "Please import necessary packages to use. Note that learning and using packages are recommended but not required for this project. Some official tutorial for suggested packacges includes:\n",
    "    \n",
    "https://scikit-learn.org/stable/tutorial/basic/tutorial.html\n",
    "    \n",
    "https://pytorch.org/tutorials/\n",
    "    \n",
    "https://pandas.pydata.org/pandas-docs/stable/user_guide/10min.html\n",
    "<p>"
   ]
  },
  {
   "cell_type": "code",
   "execution_count": 9,
   "metadata": {},
   "outputs": [],
   "source": [
    "#one hot encoded countries\n",
    "#removed the date week column\n",
    "#standard scaler of the number of cases, and daily occupancies\n",
    "#removed the date column"
   ]
  },
  {
   "cell_type": "code",
   "execution_count": 1,
   "metadata": {},
   "outputs": [
    {
     "name": "stdout",
     "output_type": "stream",
     "text": [
      "Requirement already satisfied: seaborn in /home/hsharsh/anaconda3/envs/mlenv/lib/python3.8/site-packages (0.10.1)\n",
      "Requirement already satisfied: pandas>=0.22.0 in /home/hsharsh/anaconda3/envs/mlenv/lib/python3.8/site-packages (from seaborn) (1.0.5)\n",
      "Requirement already satisfied: scipy>=1.0.1 in /home/hsharsh/anaconda3/envs/mlenv/lib/python3.8/site-packages (from seaborn) (1.5.0)\n",
      "Requirement already satisfied: numpy>=1.13.3 in /home/hsharsh/anaconda3/envs/mlenv/lib/python3.8/site-packages (from seaborn) (1.19.1)\n",
      "Requirement already satisfied: matplotlib>=2.1.2 in /home/hsharsh/anaconda3/envs/mlenv/lib/python3.8/site-packages (from seaborn) (3.2.2)\n",
      "Requirement already satisfied: pytz>=2017.2 in /home/hsharsh/anaconda3/envs/mlenv/lib/python3.8/site-packages (from pandas>=0.22.0->seaborn) (2020.1)\n",
      "Requirement already satisfied: python-dateutil>=2.6.1 in /home/hsharsh/anaconda3/envs/mlenv/lib/python3.8/site-packages (from pandas>=0.22.0->seaborn) (2.8.1)\n",
      "Requirement already satisfied: cycler>=0.10 in /home/hsharsh/anaconda3/envs/mlenv/lib/python3.8/site-packages (from matplotlib>=2.1.2->seaborn) (0.10.0)\n",
      "Requirement already satisfied: pyparsing!=2.0.4,!=2.1.2,!=2.1.6,>=2.0.1 in /home/hsharsh/anaconda3/envs/mlenv/lib/python3.8/site-packages (from matplotlib>=2.1.2->seaborn) (2.4.7)\n",
      "Requirement already satisfied: kiwisolver>=1.0.1 in /home/hsharsh/anaconda3/envs/mlenv/lib/python3.8/site-packages (from matplotlib>=2.1.2->seaborn) (1.2.0)\n",
      "Requirement already satisfied: six>=1.5 in /home/hsharsh/anaconda3/envs/mlenv/lib/python3.8/site-packages (from python-dateutil>=2.6.1->pandas>=0.22.0->seaborn) (1.15.0)\n"
     ]
    }
   ],
   "source": [
    "#imported liabraries\n",
    "!pip install seaborn\n",
    "import os\n",
    "import pandas as pd\n",
    "import numpy as np\n",
    "import tensorflow as tf\n",
    "import matplotlib.pyplot as plt\n",
    "import seaborn as sns\n",
    "\n",
    "# TODO"
   ]
  },
  {
   "cell_type": "markdown",
   "metadata": {},
   "source": [
    "<h3>1.2 Accuracy and Mean Squared Error:</h3><p>\n",
    "To measure your performance in the Kaggle Competition, we are using accuracy and mean squared error (MSE). As a recap, accuracy is the percent of labels you predict correctly and MSE is the average squared difference between the estimated values and the actual value. To measure this, you can use library functions from sklearn. A simple example is shown below. \n",
    "<p>"
   ]
  },
  {
   "cell_type": "code",
   "execution_count": 2,
   "metadata": {},
   "outputs": [
    {
     "data": {
      "text/plain": [
       "0.42857142857142855"
      ]
     },
     "execution_count": 2,
     "metadata": {},
     "output_type": "execute_result"
    }
   ],
   "source": [
    "from sklearn.metrics import accuracy_score\n",
    "y_pred = [3, 2, 1, 0, 1, 2, 3]\n",
    "y_true = [0, 1, 2, 3, 1, 2, 3]\n",
    "accuracy_score(y_true, y_pred)"
   ]
  },
  {
   "cell_type": "code",
   "execution_count": 3,
   "metadata": {},
   "outputs": [
    {
     "data": {
      "text/plain": [
       "2.857142857142857"
      ]
     },
     "execution_count": 3,
     "metadata": {},
     "output_type": "execute_result"
    }
   ],
   "source": [
    "from sklearn.metrics import mean_squared_error\n",
    "mean_squared_error(y_true, y_pred)"
   ]
  },
  {
   "cell_type": "markdown",
   "metadata": {},
   "source": [
    "<h2>Part 2: Baseline Solution</h2><p>\n",
    "Note that your code should be commented well and in part 2.4 you can refer to your comments."
   ]
  },
  {
   "cell_type": "markdown",
   "metadata": {},
   "source": [
    "<h3>2.1 Preprocessing and Feature Extraction:</h3><p>\n",
    "Given the training dataset and graph information, you need to correctly preprocess the dataset (e.g. feature normalization). Think of what modifications can be done to the data to make it more easily interpretable.\n",
    "<p>"
   ]
  },
  {
   "cell_type": "code",
   "execution_count": 4,
   "metadata": {},
   "outputs": [
    {
     "data": {
      "text/html": [
       "<div>\n",
       "<style scoped>\n",
       "    .dataframe tbody tr th:only-of-type {\n",
       "        vertical-align: middle;\n",
       "    }\n",
       "\n",
       "    .dataframe tbody tr th {\n",
       "        vertical-align: top;\n",
       "    }\n",
       "\n",
       "    .dataframe thead th {\n",
       "        text-align: right;\n",
       "    }\n",
       "</style>\n",
       "<table border=\"1\" class=\"dataframe\">\n",
       "  <thead>\n",
       "    <tr style=\"text-align: right;\">\n",
       "      <th></th>\n",
       "      <th>country</th>\n",
       "      <th>date</th>\n",
       "      <th>year_week</th>\n",
       "      <th>Daily hospital occupancy</th>\n",
       "      <th>under_15_cases</th>\n",
       "      <th>15-24_cases</th>\n",
       "      <th>25-49_cases</th>\n",
       "      <th>50-64_cases</th>\n",
       "      <th>65-79_cases</th>\n",
       "      <th>over_80_cases</th>\n",
       "    </tr>\n",
       "  </thead>\n",
       "  <tbody>\n",
       "    <tr>\n",
       "      <th>0</th>\n",
       "      <td>Belgium</td>\n",
       "      <td>9/7/2020</td>\n",
       "      <td>2020-W37</td>\n",
       "      <td>235</td>\n",
       "      <td>773</td>\n",
       "      <td>1325</td>\n",
       "      <td>2649</td>\n",
       "      <td>904</td>\n",
       "      <td>350</td>\n",
       "      <td>143</td>\n",
       "    </tr>\n",
       "    <tr>\n",
       "      <th>1</th>\n",
       "      <td>Belgium</td>\n",
       "      <td>9/8/2020</td>\n",
       "      <td>2020-W37</td>\n",
       "      <td>260</td>\n",
       "      <td>773</td>\n",
       "      <td>1325</td>\n",
       "      <td>2649</td>\n",
       "      <td>904</td>\n",
       "      <td>350</td>\n",
       "      <td>143</td>\n",
       "    </tr>\n",
       "    <tr>\n",
       "      <th>2</th>\n",
       "      <td>Belgium</td>\n",
       "      <td>9/9/2020</td>\n",
       "      <td>2020-W37</td>\n",
       "      <td>250</td>\n",
       "      <td>773</td>\n",
       "      <td>1325</td>\n",
       "      <td>2649</td>\n",
       "      <td>904</td>\n",
       "      <td>350</td>\n",
       "      <td>143</td>\n",
       "    </tr>\n",
       "    <tr>\n",
       "      <th>3</th>\n",
       "      <td>Belgium</td>\n",
       "      <td>9/10/2020</td>\n",
       "      <td>2020-W37</td>\n",
       "      <td>249</td>\n",
       "      <td>773</td>\n",
       "      <td>1325</td>\n",
       "      <td>2649</td>\n",
       "      <td>904</td>\n",
       "      <td>350</td>\n",
       "      <td>143</td>\n",
       "    </tr>\n",
       "    <tr>\n",
       "      <th>4</th>\n",
       "      <td>Belgium</td>\n",
       "      <td>9/11/2020</td>\n",
       "      <td>2020-W37</td>\n",
       "      <td>254</td>\n",
       "      <td>773</td>\n",
       "      <td>1325</td>\n",
       "      <td>2649</td>\n",
       "      <td>904</td>\n",
       "      <td>350</td>\n",
       "      <td>143</td>\n",
       "    </tr>\n",
       "  </tbody>\n",
       "</table>\n",
       "</div>"
      ],
      "text/plain": [
       "   country       date year_week  Daily hospital occupancy  under_15_cases  \\\n",
       "0  Belgium   9/7/2020  2020-W37                       235             773   \n",
       "1  Belgium   9/8/2020  2020-W37                       260             773   \n",
       "2  Belgium   9/9/2020  2020-W37                       250             773   \n",
       "3  Belgium  9/10/2020  2020-W37                       249             773   \n",
       "4  Belgium  9/11/2020  2020-W37                       254             773   \n",
       "\n",
       "   15-24_cases  25-49_cases  50-64_cases  65-79_cases  over_80_cases  \n",
       "0         1325         2649          904          350            143  \n",
       "1         1325         2649          904          350            143  \n",
       "2         1325         2649          904          350            143  \n",
       "3         1325         2649          904          350            143  \n",
       "4         1325         2649          904          350            143  "
      ]
     },
     "execution_count": 4,
     "metadata": {},
     "output_type": "execute_result"
    }
   ],
   "source": [
    "# You may change this but we suggest loading data with the following code and you may need to change\n",
    "# datatypes and do necessary data transformation after loading the raw data to the dataframe.\n",
    "df = pd.read_csv('train_baseline.csv', sep=',')\n",
    "df_copy = df.copy()\n",
    "test = pd.read_csv('test_baseline_no_label.csv',sep = ',')\n",
    "test_copy = test.copy()\n",
    "test.head(5)\n",
    "\n",
    "# Make sure you comment your code clearly and you may refer to these comments in the part 2.4\n",
    "# TODO"
   ]
  },
  {
   "cell_type": "code",
   "execution_count": 5,
   "metadata": {},
   "outputs": [
    {
     "name": "stdout",
     "output_type": "stream",
     "text": [
      "    country       date year_week  Daily hospital occupancy  under_15_cases  \\\n",
      "0   Belgium  3/15/2020  2020-W11                 -0.351214       -0.369019   \n",
      "1   Belgium  3/16/2020  2020-W12                 -0.332702       -0.367305   \n",
      "2   Belgium  3/17/2020  2020-W12                 -0.311422       -0.367305   \n",
      "3   Belgium  3/18/2020  2020-W12                 -0.284951       -0.367305   \n",
      "4   Belgium  3/19/2020  2020-W12                 -0.251387       -0.367305   \n",
      "5   Belgium  3/20/2020  2020-W12                 -0.205019       -0.367305   \n",
      "6   Belgium  3/21/2020  2020-W12                 -0.157268       -0.367305   \n",
      "7   Belgium  3/22/2020  2020-W12                 -0.109344       -0.367305   \n",
      "8   Belgium  3/23/2020  2020-W13                 -0.070935       -0.366162   \n",
      "9   Belgium  3/24/2020  2020-W13                 -0.015398       -0.366162   \n",
      "10  Belgium  3/25/2020  2020-W13                  0.074049       -0.366162   \n",
      "11  Belgium  3/26/2020  2020-W13                  0.141523       -0.366162   \n",
      "12  Belgium  3/27/2020  2020-W13                  0.234604       -0.366162   \n",
      "13  Belgium  3/28/2020  2020-W13                  0.310556       -0.366162   \n",
      "14  Belgium  3/29/2020  2020-W13                  0.388065       -0.366162   \n",
      "\n",
      "    15-24_cases  25-49_cases  50-64_cases  65-79_cases  over_80_cases  \\\n",
      "0     -0.427223    -0.424536    -0.401582    -0.403804      -0.409997   \n",
      "1     -0.419764    -0.392884    -0.375323    -0.364444      -0.346989   \n",
      "2     -0.419764    -0.392884    -0.375323    -0.364444      -0.346989   \n",
      "3     -0.419764    -0.392884    -0.375323    -0.364444      -0.346989   \n",
      "4     -0.419764    -0.392884    -0.375323    -0.364444      -0.346989   \n",
      "5     -0.419764    -0.392884    -0.375323    -0.364444      -0.346989   \n",
      "6     -0.419764    -0.392884    -0.375323    -0.364444      -0.346989   \n",
      "7     -0.419764    -0.392884    -0.375323    -0.364444      -0.346989   \n",
      "8     -0.418273    -0.338715    -0.287278    -0.221475      -0.180553   \n",
      "9     -0.418273    -0.338715    -0.287278    -0.221475      -0.180553   \n",
      "10    -0.418273    -0.338715    -0.287278    -0.221475      -0.180553   \n",
      "11    -0.418273    -0.338715    -0.287278    -0.221475      -0.180553   \n",
      "12    -0.418273    -0.338715    -0.287278    -0.221475      -0.180553   \n",
      "13    -0.418273    -0.338715    -0.287278    -0.221475      -0.180553   \n",
      "14    -0.418273    -0.338715    -0.287278    -0.221475      -0.180553   \n",
      "\n",
      "    next_week_increase_decrease  \n",
      "0                             1  \n",
      "1                             1  \n",
      "2                             1  \n",
      "3                             1  \n",
      "4                             1  \n",
      "5                             1  \n",
      "6                             1  \n",
      "7                             1  \n",
      "8                             1  \n",
      "9                             1  \n",
      "10                            1  \n",
      "11                            1  \n",
      "12                            1  \n",
      "13                            1  \n",
      "14                            1  \n",
      "    country       date year_week  Daily hospital occupancy  under_15_cases  \\\n",
      "0   Belgium   9/7/2020  2020-W37                 -0.356059       -0.155286   \n",
      "1   Belgium   9/8/2020  2020-W37                 -0.351733       -0.155286   \n",
      "2   Belgium   9/9/2020  2020-W37                 -0.353464       -0.155286   \n",
      "3   Belgium  9/10/2020  2020-W37                 -0.353637       -0.155286   \n",
      "4   Belgium  9/11/2020  2020-W37                 -0.352772       -0.155286   \n",
      "5   Belgium  9/12/2020  2020-W37                 -0.351733       -0.155286   \n",
      "6   Belgium  9/13/2020  2020-W37                 -0.346024       -0.155286   \n",
      "7   Belgium  9/14/2020  2020-W38                 -0.341699       -0.034989   \n",
      "8   Belgium  9/15/2020  2020-W38                 -0.342218       -0.034989   \n",
      "9   Belgium  9/16/2020  2020-W38                 -0.335643       -0.034989   \n",
      "10  Belgium  9/17/2020  2020-W38                 -0.332529       -0.034989   \n",
      "11  Belgium  9/18/2020  2020-W38                 -0.328896       -0.034989   \n",
      "12  Belgium  9/19/2020  2020-W38                 -0.323879       -0.034989   \n",
      "13  Belgium  9/20/2020  2020-W38                 -0.321975       -0.034989   \n",
      "14  Belgium  9/21/2020  2020-W39                 -0.311941       -0.072421   \n",
      "\n",
      "    15-24_cases  25-49_cases  50-64_cases  65-79_cases  over_80_cases  \n",
      "0     -0.108735    -0.226130    -0.297705    -0.324575      -0.357292  \n",
      "1     -0.108735    -0.226130    -0.297705    -0.324575      -0.357292  \n",
      "2     -0.108735    -0.226130    -0.297705    -0.324575      -0.357292  \n",
      "3     -0.108735    -0.226130    -0.297705    -0.324575      -0.357292  \n",
      "4     -0.108735    -0.226130    -0.297705    -0.324575      -0.357292  \n",
      "5     -0.108735    -0.226130    -0.297705    -0.324575      -0.357292  \n",
      "6     -0.108735    -0.226130    -0.297705    -0.324575      -0.357292  \n",
      "7      0.146106    -0.111461    -0.213007    -0.258805      -0.294680  \n",
      "8      0.146106    -0.111461    -0.213007    -0.258805      -0.294680  \n",
      "9      0.146106    -0.111461    -0.213007    -0.258805      -0.294680  \n",
      "10     0.146106    -0.111461    -0.213007    -0.258805      -0.294680  \n",
      "11     0.146106    -0.111461    -0.213007    -0.258805      -0.294680  \n",
      "12     0.146106    -0.111461    -0.213007    -0.258805      -0.294680  \n",
      "13     0.146106    -0.111461    -0.213007    -0.258805      -0.294680  \n",
      "14     0.277380    -0.088383    -0.179669    -0.242806      -0.261393  \n"
     ]
    }
   ],
   "source": [
    "#standardidization using standard scaler and transforming that to the test set once applied to the training model\n",
    "from sklearn.preprocessing import StandardScaler\n",
    "scaler = StandardScaler()\n",
    "df_copy[['Daily hospital occupancy','under_15_cases','15-24_cases','25-49_cases','50-64_cases','65-79_cases','over_80_cases']]=scaler.fit_transform(df_copy[['Daily hospital occupancy','under_15_cases','15-24_cases','25-49_cases','50-64_cases','65-79_cases','over_80_cases']])\n",
    "print(df_copy.head(15))\n",
    "\n",
    "test_copy[['Daily hospital occupancy','under_15_cases','15-24_cases','25-49_cases','50-64_cases','65-79_cases','over_80_cases']]=scaler.transform(test_copy[['Daily hospital occupancy','under_15_cases','15-24_cases','25-49_cases','50-64_cases','65-79_cases','over_80_cases']])\n",
    "print(test_copy.head(15))\n",
    "#test_copy.head(15)\n",
    "#df = df[['Daily hospital occupancy','under_15_cases','15-24_cases','25-49_cases','50-64_cases','65-79_cases','over_80_cases','Belgium', 'Croatia', 'Cyprus', 'Czechia', 'Denmark', 'Estonia',\n",
    "       #'Iceland', 'Ireland', 'Italy', 'Lithuania', 'Netherlands',\n",
    "       #'Norway', 'Portugal', 'Slovenia', 'Spain','year','month','day','week','next_week_increase_decrease']]\n",
    "#df.head(15)"
   ]
  },
  {
   "cell_type": "code",
   "execution_count": 6,
   "metadata": {},
   "outputs": [
    {
     "data": {
      "text/html": [
       "<div>\n",
       "<style scoped>\n",
       "    .dataframe tbody tr th:only-of-type {\n",
       "        vertical-align: middle;\n",
       "    }\n",
       "\n",
       "    .dataframe tbody tr th {\n",
       "        vertical-align: top;\n",
       "    }\n",
       "\n",
       "    .dataframe thead th {\n",
       "        text-align: right;\n",
       "    }\n",
       "</style>\n",
       "<table border=\"1\" class=\"dataframe\">\n",
       "  <thead>\n",
       "    <tr style=\"text-align: right;\">\n",
       "      <th></th>\n",
       "      <th>country</th>\n",
       "      <th>date</th>\n",
       "      <th>year_week</th>\n",
       "      <th>Daily hospital occupancy</th>\n",
       "      <th>under_15_cases</th>\n",
       "      <th>15-24_cases</th>\n",
       "      <th>25-49_cases</th>\n",
       "      <th>50-64_cases</th>\n",
       "      <th>65-79_cases</th>\n",
       "      <th>over_80_cases</th>\n",
       "    </tr>\n",
       "  </thead>\n",
       "  <tbody>\n",
       "    <tr>\n",
       "      <th>0</th>\n",
       "      <td>Belgium</td>\n",
       "      <td>9/7/2020</td>\n",
       "      <td>2020-W37</td>\n",
       "      <td>-0.356059</td>\n",
       "      <td>-0.155286</td>\n",
       "      <td>-0.108735</td>\n",
       "      <td>-0.226130</td>\n",
       "      <td>-0.297705</td>\n",
       "      <td>-0.324575</td>\n",
       "      <td>-0.357292</td>\n",
       "    </tr>\n",
       "    <tr>\n",
       "      <th>1</th>\n",
       "      <td>Belgium</td>\n",
       "      <td>9/8/2020</td>\n",
       "      <td>2020-W37</td>\n",
       "      <td>-0.351733</td>\n",
       "      <td>-0.155286</td>\n",
       "      <td>-0.108735</td>\n",
       "      <td>-0.226130</td>\n",
       "      <td>-0.297705</td>\n",
       "      <td>-0.324575</td>\n",
       "      <td>-0.357292</td>\n",
       "    </tr>\n",
       "    <tr>\n",
       "      <th>2</th>\n",
       "      <td>Belgium</td>\n",
       "      <td>9/9/2020</td>\n",
       "      <td>2020-W37</td>\n",
       "      <td>-0.353464</td>\n",
       "      <td>-0.155286</td>\n",
       "      <td>-0.108735</td>\n",
       "      <td>-0.226130</td>\n",
       "      <td>-0.297705</td>\n",
       "      <td>-0.324575</td>\n",
       "      <td>-0.357292</td>\n",
       "    </tr>\n",
       "    <tr>\n",
       "      <th>3</th>\n",
       "      <td>Belgium</td>\n",
       "      <td>9/10/2020</td>\n",
       "      <td>2020-W37</td>\n",
       "      <td>-0.353637</td>\n",
       "      <td>-0.155286</td>\n",
       "      <td>-0.108735</td>\n",
       "      <td>-0.226130</td>\n",
       "      <td>-0.297705</td>\n",
       "      <td>-0.324575</td>\n",
       "      <td>-0.357292</td>\n",
       "    </tr>\n",
       "    <tr>\n",
       "      <th>4</th>\n",
       "      <td>Belgium</td>\n",
       "      <td>9/11/2020</td>\n",
       "      <td>2020-W37</td>\n",
       "      <td>-0.352772</td>\n",
       "      <td>-0.155286</td>\n",
       "      <td>-0.108735</td>\n",
       "      <td>-0.226130</td>\n",
       "      <td>-0.297705</td>\n",
       "      <td>-0.324575</td>\n",
       "      <td>-0.357292</td>\n",
       "    </tr>\n",
       "    <tr>\n",
       "      <th>5</th>\n",
       "      <td>Belgium</td>\n",
       "      <td>9/12/2020</td>\n",
       "      <td>2020-W37</td>\n",
       "      <td>-0.351733</td>\n",
       "      <td>-0.155286</td>\n",
       "      <td>-0.108735</td>\n",
       "      <td>-0.226130</td>\n",
       "      <td>-0.297705</td>\n",
       "      <td>-0.324575</td>\n",
       "      <td>-0.357292</td>\n",
       "    </tr>\n",
       "    <tr>\n",
       "      <th>6</th>\n",
       "      <td>Belgium</td>\n",
       "      <td>9/13/2020</td>\n",
       "      <td>2020-W37</td>\n",
       "      <td>-0.346024</td>\n",
       "      <td>-0.155286</td>\n",
       "      <td>-0.108735</td>\n",
       "      <td>-0.226130</td>\n",
       "      <td>-0.297705</td>\n",
       "      <td>-0.324575</td>\n",
       "      <td>-0.357292</td>\n",
       "    </tr>\n",
       "    <tr>\n",
       "      <th>7</th>\n",
       "      <td>Belgium</td>\n",
       "      <td>9/14/2020</td>\n",
       "      <td>2020-W38</td>\n",
       "      <td>-0.341699</td>\n",
       "      <td>-0.034989</td>\n",
       "      <td>0.146106</td>\n",
       "      <td>-0.111461</td>\n",
       "      <td>-0.213007</td>\n",
       "      <td>-0.258805</td>\n",
       "      <td>-0.294680</td>\n",
       "    </tr>\n",
       "    <tr>\n",
       "      <th>8</th>\n",
       "      <td>Belgium</td>\n",
       "      <td>9/15/2020</td>\n",
       "      <td>2020-W38</td>\n",
       "      <td>-0.342218</td>\n",
       "      <td>-0.034989</td>\n",
       "      <td>0.146106</td>\n",
       "      <td>-0.111461</td>\n",
       "      <td>-0.213007</td>\n",
       "      <td>-0.258805</td>\n",
       "      <td>-0.294680</td>\n",
       "    </tr>\n",
       "    <tr>\n",
       "      <th>9</th>\n",
       "      <td>Belgium</td>\n",
       "      <td>9/16/2020</td>\n",
       "      <td>2020-W38</td>\n",
       "      <td>-0.335643</td>\n",
       "      <td>-0.034989</td>\n",
       "      <td>0.146106</td>\n",
       "      <td>-0.111461</td>\n",
       "      <td>-0.213007</td>\n",
       "      <td>-0.258805</td>\n",
       "      <td>-0.294680</td>\n",
       "    </tr>\n",
       "  </tbody>\n",
       "</table>\n",
       "</div>"
      ],
      "text/plain": [
       "   country       date year_week  Daily hospital occupancy  under_15_cases  \\\n",
       "0  Belgium   9/7/2020  2020-W37                 -0.356059       -0.155286   \n",
       "1  Belgium   9/8/2020  2020-W37                 -0.351733       -0.155286   \n",
       "2  Belgium   9/9/2020  2020-W37                 -0.353464       -0.155286   \n",
       "3  Belgium  9/10/2020  2020-W37                 -0.353637       -0.155286   \n",
       "4  Belgium  9/11/2020  2020-W37                 -0.352772       -0.155286   \n",
       "5  Belgium  9/12/2020  2020-W37                 -0.351733       -0.155286   \n",
       "6  Belgium  9/13/2020  2020-W37                 -0.346024       -0.155286   \n",
       "7  Belgium  9/14/2020  2020-W38                 -0.341699       -0.034989   \n",
       "8  Belgium  9/15/2020  2020-W38                 -0.342218       -0.034989   \n",
       "9  Belgium  9/16/2020  2020-W38                 -0.335643       -0.034989   \n",
       "\n",
       "   15-24_cases  25-49_cases  50-64_cases  65-79_cases  over_80_cases  \n",
       "0    -0.108735    -0.226130    -0.297705    -0.324575      -0.357292  \n",
       "1    -0.108735    -0.226130    -0.297705    -0.324575      -0.357292  \n",
       "2    -0.108735    -0.226130    -0.297705    -0.324575      -0.357292  \n",
       "3    -0.108735    -0.226130    -0.297705    -0.324575      -0.357292  \n",
       "4    -0.108735    -0.226130    -0.297705    -0.324575      -0.357292  \n",
       "5    -0.108735    -0.226130    -0.297705    -0.324575      -0.357292  \n",
       "6    -0.108735    -0.226130    -0.297705    -0.324575      -0.357292  \n",
       "7     0.146106    -0.111461    -0.213007    -0.258805      -0.294680  \n",
       "8     0.146106    -0.111461    -0.213007    -0.258805      -0.294680  \n",
       "9     0.146106    -0.111461    -0.213007    -0.258805      -0.294680  "
      ]
     },
     "execution_count": 6,
     "metadata": {},
     "output_type": "execute_result"
    }
   ],
   "source": [
    "test_copy.head(10)"
   ]
  },
  {
   "cell_type": "code",
   "execution_count": null,
   "metadata": {},
   "outputs": [],
   "source": [
    "#function defined for cleaning and converting date and time columns "
   ]
  },
  {
   "cell_type": "code",
   "execution_count": 16,
   "metadata": {},
   "outputs": [],
   "source": [
    "def cleaning_train(test):\n",
    "    #dropped year_week column\n",
    "    test = test.drop(['year_week'], axis=1)\n",
    "     #ask harsh about this \n",
    "   #seems like training set has nore increase than decreased values by week\n",
    "    encoded_columns = pd.get_dummies(test['country'])\n",
    "    #ask harsh about this \n",
    "    test= test.join(encoded_columns).drop('country', axis=1)\n",
    "    test['date'] = pd.to_datetime(test['date'])\n",
    "    #test['year'] = test['date'].dt.year\n",
    "    test['month'] = test['date'].dt.month\n",
    "    test['day'] = test['date'].dt.day\n",
    "    test['week'] = test['date'].dt.week\n",
    "    test = test.drop(['date'], axis=1)\n",
    "    return test\n",
    "     \n",
    "   \n"
   ]
  },
  {
   "cell_type": "code",
   "execution_count": 17,
   "metadata": {},
   "outputs": [
    {
     "name": "stdout",
     "output_type": "stream",
     "text": [
      "      Daily hospital occupancy  under_15_cases  15-24_cases  25-49_cases  \\\n",
      "0                    -0.356059       -0.155286    -0.108735    -0.226130   \n",
      "1                    -0.351733       -0.155286    -0.108735    -0.226130   \n",
      "2                    -0.353464       -0.155286    -0.108735    -0.226130   \n",
      "3                    -0.353637       -0.155286    -0.108735    -0.226130   \n",
      "4                    -0.352772       -0.155286    -0.108735    -0.226130   \n",
      "...                        ...             ...          ...          ...   \n",
      "1139                  1.315409        1.038823     0.610040     0.490809   \n",
      "1140                  1.292053        1.029679     0.552111     0.490409   \n",
      "1141                  1.226308        1.029679     0.552111     0.490409   \n",
      "1142                  1.180460        1.029679     0.552111     0.490409   \n",
      "1143                  1.118695        1.029679     0.552111     0.490409   \n",
      "\n",
      "      50-64_cases  65-79_cases  over_80_cases  Belgium  Croatia  Cyprus  ...  \\\n",
      "0       -0.297705    -0.324575      -0.357292        1        0       0  ...   \n",
      "1       -0.297705    -0.324575      -0.357292        1        0       0  ...   \n",
      "2       -0.297705    -0.324575      -0.357292        1        0       0  ...   \n",
      "3       -0.297705    -0.324575      -0.357292        1        0       0  ...   \n",
      "4       -0.297705    -0.324575      -0.357292        1        0       0  ...   \n",
      "...           ...          ...            ...      ...      ...     ...  ...   \n",
      "1139     0.393263     0.337193       0.162623        0        0       0  ...   \n",
      "1140     0.370609     0.305450       0.130524        0        0       0  ...   \n",
      "1141     0.370609     0.305450       0.130524        0        0       0  ...   \n",
      "1142     0.370609     0.305450       0.130524        0        0       0  ...   \n",
      "1143     0.370609     0.305450       0.130524        0        0       0  ...   \n",
      "\n",
      "      Italy  Lithuania  Netherlands  Norway  Portugal  Slovenia  Spain  month  \\\n",
      "0         0          0            0       0         0         0      0      9   \n",
      "1         0          0            0       0         0         0      0      9   \n",
      "2         0          0            0       0         0         0      0      9   \n",
      "3         0          0            0       0         0         0      0      9   \n",
      "4         0          0            0       0         0         0      0      9   \n",
      "...     ...        ...          ...     ...       ...       ...    ...    ...   \n",
      "1139      0          0            0       0         0         0      1      3   \n",
      "1140      0          0            0       0         0         0      1      3   \n",
      "1141      0          0            0       0         0         0      1      3   \n",
      "1142      0          0            0       0         0         0      1      3   \n",
      "1143      0          0            0       0         0         0      1      3   \n",
      "\n",
      "      day  week  \n",
      "0       7    37  \n",
      "1       8    37  \n",
      "2       9    37  \n",
      "3      10    37  \n",
      "4      11    37  \n",
      "...   ...   ...  \n",
      "1139    5     9  \n",
      "1140    8    10  \n",
      "1141    9    10  \n",
      "1142   10    10  \n",
      "1143   11    10  \n",
      "\n",
      "[1144 rows x 25 columns]\n",
      "      Daily hospital occupancy  under_15_cases  15-24_cases  25-49_cases  \\\n",
      "0                    -0.351214       -0.369019    -0.427223    -0.424536   \n",
      "1                    -0.332702       -0.367305    -0.419764    -0.392884   \n",
      "2                    -0.311422       -0.367305    -0.419764    -0.392884   \n",
      "3                    -0.284951       -0.367305    -0.419764    -0.392884   \n",
      "4                    -0.251387       -0.367305    -0.419764    -0.392884   \n",
      "...                        ...             ...          ...          ...   \n",
      "3980                  2.425800        1.800035     0.944441     0.862060   \n",
      "3981                  2.234448        1.256557     0.685622     0.599388   \n",
      "3982                  1.938079        1.256557     0.685622     0.599388   \n",
      "3983                  1.823199        1.256557     0.685622     0.599388   \n",
      "3984                  1.715240        1.256557     0.685622     0.599388   \n",
      "\n",
      "      50-64_cases  65-79_cases  over_80_cases  Belgium  Croatia  Cyprus  ...  \\\n",
      "0       -0.401582    -0.403804      -0.409997        1        0       0  ...   \n",
      "1       -0.375323    -0.364444      -0.346989        1        0       0  ...   \n",
      "2       -0.375323    -0.364444      -0.346989        1        0       0  ...   \n",
      "3       -0.375323    -0.364444      -0.346989        1        0       0  ...   \n",
      "4       -0.375323    -0.364444      -0.346989        1        0       0  ...   \n",
      "...           ...          ...            ...      ...      ...     ...  ...   \n",
      "3980     0.654951     0.626430       0.484399        0        0       0  ...   \n",
      "3981     0.444623     0.409565       0.228008        0        0       0  ...   \n",
      "3982     0.444623     0.409565       0.228008        0        0       0  ...   \n",
      "3983     0.444623     0.409565       0.228008        0        0       0  ...   \n",
      "3984     0.444623     0.409565       0.228008        0        0       0  ...   \n",
      "\n",
      "      Lithuania  Netherlands  Norway  Portugal  Slovenia  Spain  month  day  \\\n",
      "0             0            0       0         0         0      0      3   15   \n",
      "1             0            0       0         0         0      0      3   16   \n",
      "2             0            0       0         0         0      0      3   17   \n",
      "3             0            0       0         0         0      0      3   18   \n",
      "4             0            0       0         0         0      0      3   19   \n",
      "...         ...          ...     ...       ...       ...    ...    ...  ...   \n",
      "3980          0            0       0         0         0      1      2   19   \n",
      "3981          0            0       0         0         0      1      2   22   \n",
      "3982          0            0       0         0         0      1      2   24   \n",
      "3983          0            0       0         0         0      1      2   25   \n",
      "3984          0            0       0         0         0      1      2   26   \n",
      "\n",
      "      week  next_week_increase_decrease  \n",
      "0       11                            1  \n",
      "1       12                            1  \n",
      "2       12                            1  \n",
      "3       12                            1  \n",
      "4       12                            1  \n",
      "...    ...                          ...  \n",
      "3980     7                            0  \n",
      "3981     8                            0  \n",
      "3982     8                            0  \n",
      "3983     8                            0  \n",
      "3984     8                            0  \n",
      "\n",
      "[3985 rows x 26 columns]\n"
     ]
    },
    {
     "name": "stderr",
     "output_type": "stream",
     "text": [
      "C:\\Anaconda\\envs\\my-rdkit-env\\lib\\site-packages\\ipykernel_launcher.py:13: FutureWarning: Series.dt.weekofyear and Series.dt.week have been deprecated.  Please use Series.dt.isocalendar().week instead.\n",
      "  del sys.path[0]\n"
     ]
    }
   ],
   "source": [
    "#running function on test and train data\n",
    "df_final_processing = cleaning_train(df_copy)\n",
    "df_final_processing = df_final_processing[['Daily hospital occupancy','under_15_cases','15-24_cases','25-49_cases','50-64_cases','65-79_cases','over_80_cases','Belgium', 'Croatia', 'Cyprus', 'Czechia', 'Denmark', 'Estonia',\n",
    "       'Iceland', 'Ireland', 'Italy', 'Lithuania', 'Netherlands',\n",
    "       'Norway', 'Portugal', 'Slovenia', 'Spain','month','day','week','next_week_increase_decrease']]\n",
    "df_final_processing.head(15)\n",
    "#df_test_processing = cleaning_train(test_copy)\n",
    "test_processing = cleaning_train(test_copy)\n",
    "print(test_processing)\n",
    "print(df_final_processing)"
   ]
  },
  {
   "cell_type": "code",
   "execution_count": 18,
   "metadata": {},
   "outputs": [],
   "source": [
    "#this is to randomly shuffle the training set, and split it into train and validation set\n",
    "feature_names = [f'{i}' for i in df_final_processing.columns]\n",
    "final_features = feature_names[0:25]\n",
    "df_final_processing = df_final_processing.sample(n=len(df_final_processing),random_state= 42)\n",
    "\n",
    "df_final_processing = df_final_processing.reset_index(drop =True)\n",
    "df_valid = df_final_processing.sample(frac= 0.3,random_state = 42)\n",
    "df_train = df_final_processing.drop(df_valid.index)\n",
    "X_train = df_train.iloc[:,0:25].values\n",
    "X_valid = df_valid.iloc[:,0:25].values\n",
    "y_train = df_train.iloc[:,-1].values\n",
    "y_valid = df_valid.iloc[:,-1].values\n",
    "\n"
   ]
  },
  {
   "cell_type": "code",
   "execution_count": 30,
   "metadata": {},
   "outputs": [
    {
     "name": "stdout",
     "output_type": "stream",
     "text": [
      "{'bootstrap': True, 'ccp_alpha': 0.0, 'class_weight': None, 'criterion': 'gini', 'max_depth': 24, 'max_features': 'auto', 'max_leaf_nodes': None, 'max_samples': None, 'min_impurity_decrease': 0.0, 'min_impurity_split': None, 'min_samples_leaf': 1, 'min_samples_split': 2, 'min_weight_fraction_leaf': 0.0, 'n_estimators': 100, 'n_jobs': None, 'oob_score': True, 'random_state': 42, 'verbose': 0, 'warm_start': False}\n"
     ]
    }
   ],
   "source": [
    "#imported random forest\n",
    "from sklearn.ensemble import RandomForestClassifier\n",
    "rf=RandomForestClassifier(max_depth = 24, n_estimators=100, random_state = 42,oob_score = True )\n",
    "print(rf.get_params())\n",
    "rf.fit(X_train, y_train)\n",
    "#used the final_predict for submission\n",
    "final_predict = rf.predict(test_processing)"
   ]
  },
  {
   "cell_type": "code",
   "execution_count": 24,
   "metadata": {},
   "outputs": [],
   "source": [
    "y_train_preds = rf.predict_proba(X_train)[:,1]\n",
    "y_valid_preds = rf.predict_proba(X_valid)[:,1]\n"
   ]
  },
  {
   "cell_type": "code",
   "execution_count": 25,
   "metadata": {},
   "outputs": [],
   "source": [
    "#i used this code from online to understand the roc_auc_Score,and what exactly it does\n",
    "from sklearn.metrics import roc_auc_score, accuracy_score, precision_score, recall_score\n",
    "\n",
    "def calc_specificity(y_actual, y_pred, thresh):\n",
    " # calculates specificity\n",
    " return sum((y_pred < thresh) & (y_actual == 0)) /sum(y_actual ==0)\n",
    "def print_report(y_actual, y_pred, thresh):\n",
    "    auc = roc_auc_score(y_actual, y_pred)\n",
    "    accuracy = accuracy_score(y_actual, (y_pred > thresh))\n",
    "    recall = recall_score(y_actual, (y_pred > thresh))\n",
    "    precision = precision_score(y_actual, (y_pred > thresh))\n",
    "    specificity = calc_specificity(y_actual, y_pred, thresh)\n",
    "    return auc, accuracy, recall, precision, specificity"
   ]
  },
  {
   "cell_type": "code",
   "execution_count": 26,
   "metadata": {},
   "outputs": [
    {
     "data": {
      "text/plain": [
       "(1.0, 0.9347436357117246, 1.0, 0.872816212438854, 0.8818181818181818)"
      ]
     },
     "execution_count": 26,
     "metadata": {},
     "output_type": "execute_result"
    }
   ],
   "source": [
    "thresh = 0.101\n",
    "print_report(y_train,y_train_preds,thresh)\n",
    "#print_report(y_valid, y_valid_preds, thresh)"
   ]
  },
  {
   "cell_type": "code",
   "execution_count": 27,
   "metadata": {},
   "outputs": [
    {
     "name": "stderr",
     "output_type": "stream",
     "text": [
      "No handles with labels found to put in legend.\n"
     ]
    },
    {
     "data": {
      "image/png": "[encoded data removed]",
      "text/plain": [
       "<Figure size 432x288 with 1 Axes>"
      ]
     },
     "metadata": {
      "needs_background": "light"
     },
     "output_type": "display_data"
    }
   ],
   "source": [
    "from sklearn.metrics import roc_curve\n",
    "fpr_train, tpr_train, thresholds_train = roc_curve(y_train, y_train_preds)\n",
    "auc_train = roc_auc_score(y_train, y_train_preds)\n",
    "fpr_valid, tpr_valid, thresholds_valid = roc_curve(y_valid, y_valid_preds)\n",
    "auc_valid = roc_auc_score(y_valid, y_valid_preds)\n",
    "plt.plot(fpr_train, tpr_train)\n",
    "plt.plot(fpr_valid, tpr_valid)\n",
    "plt.plot([0,1],[0,1])\n",
    "plt.legend()\n",
    "plt.show()\n",
    "importances = rf.feature_importances_\n",
    "std = np.std([\n",
    "    tree.feature_importances_ for tree in rf.estimators_], axis=0)"
   ]
  },
  {
   "cell_type": "code",
   "execution_count": 28,
   "metadata": {},
   "outputs": [
    {
     "data": {
      "image/png": "[encoded data removed]",
      "text/plain": [
       "<Figure size 432x288 with 1 Axes>"
      ]
     },
     "metadata": {
      "needs_background": "light"
     },
     "output_type": "display_data"
    }
   ],
   "source": [
    "import pandas as pd\n",
    "forest_importances = pd.Series(importances, index=final_features)\n",
    "\n",
    "fig, ax = plt.subplots()\n",
    "forest_importances.plot.bar(yerr=std, ax=ax)\n",
    "ax.set_title(\"Feature importances using MDI\")\n",
    "ax.set_ylabel(\"Mean decrease in impurity\")\n",
    "fig.tight_layout()"
   ]
  },
  {
   "cell_type": "code",
   "execution_count": null,
   "metadata": {
    "scrolled": true
   },
   "outputs": [],
   "source": []
  },
  {
   "cell_type": "code",
   "execution_count": null,
   "metadata": {},
   "outputs": [],
   "source": [
    "\n"
   ]
  },
  {
   "cell_type": "code",
   "execution_count": null,
   "metadata": {},
   "outputs": [],
   "source": [
    "\n"
   ]
  },
  {
   "cell_type": "markdown",
   "metadata": {},
   "source": [
    "<h3>2.2 Use At Least Two Training Algorithms from class:</h3><p>\n",
    "You need to use at least two training algorithms from class. You can use your code from previous projects or any packages you imported in part 1.1."
   ]
  },
  {
   "cell_type": "code",
   "execution_count": null,
   "metadata": {},
   "outputs": [],
   "source": [
    "# Make sure you comment your code clearly and you may refer to these comments in the part 2.4\n",
    "# TODO\n",
    "\n"
   ]
  },
  {
   "cell_type": "code",
   "execution_count": null,
   "metadata": {},
   "outputs": [],
   "source": []
  },
  {
   "cell_type": "markdown",
   "metadata": {},
   "source": [
    "<h3>2.3 Training, Validation and Model Selection:</h3><p>\n",
    "You need to split your data to a training set and validation set or performing a cross-validation for model selection."
   ]
  },
  {
   "cell_type": "code",
   "execution_count": null,
   "metadata": {},
   "outputs": [],
   "source": [
    "# Make sure you comment your code clearly and you may refer to these comments in the part 2.4\n",
    "# TODO"
   ]
  },
  {
   "cell_type": "markdown",
   "metadata": {},
   "source": [
    "<h3>2.4 Explanation in Words:</h3><p>\n",
    "    You need to answer the following questions in the markdown cell after this cell:"
   ]
  },
  {
   "cell_type": "markdown",
   "metadata": {},
   "source": [
    "2.4.1 How did you preprocess the dataset and features, and how did you formulate the learning problem (or problems)?\n",
    "\n",
    "2.4.2 Which two learning methods from class did you choose and why did you made the choices?\n",
    "\n",
    "2.4.3 How did you do the model selection?\n",
    "\n",
    "2.4.4 Does the test performance reach a given baseline 70% performance? (Please include a screenshot of Kaggle Submission)"
   ]
  },
  {
   "cell_type": "markdown",
   "metadata": {},
   "source": []
  },
  {
   "cell_type": "markdown",
   "metadata": {},
   "source": [
    "<h2>Part 3: Creative Solution</h2><p>"
   ]
  },
  {
   "cell_type": "markdown",
   "metadata": {},
   "source": [
    "<h3>3.1 Open-ended Code:</h3><p>\n",
    "You may follow the steps in part 2 again but making innovative changes like creating/using new features, using new training algorithms, etc. Make sure you explain everything clearly in part 3.2. Note that reaching the 150k MSE creative baseline is only a small portion of this part. Any creative ideas will receive most points as long as they are reasonable and clearly explained."
   ]
  },
  {
   "cell_type": "code",
   "execution_count": null,
   "metadata": {},
   "outputs": [],
   "source": [
    "# Make sure you comment your code clearly and you may refer to these comments in the part 3.2\n",
    "# TODO"
   ]
  },
  {
   "cell_type": "markdown",
   "metadata": {},
   "source": [
    "<h3>3.2 Explanation in Words:</h3><p>"
   ]
  },
  {
   "cell_type": "markdown",
   "metadata": {},
   "source": [
    "You need to answer the following questions in a markdown cell after this cell:\n",
    "\n",
    "3.2.1 How much did you manage to improve performance on the test set? Did you reach the 150k MSE for the test in Kaggle? (Please include a screenshot of Kaggle Submission)\n",
    "\n",
    "3.2.2 Please explain in detail how you achieved this and what you did specifically and why you tried this."
   ]
  },
  {
   "cell_type": "markdown",
   "metadata": {},
   "source": []
  },
  {
   "cell_type": "markdown",
   "metadata": {},
   "source": [
    "<h2>Part 4: Kaggle Submission</h2><p>\n",
    "You need to generate a prediction CSV using the following cell from your trained model and submit the direct output of your code to Kaggle. The CSV shall contain TWO columns. The first column should be named \"country_id\" and be a concatenation of the country and date in the first two columns of the test_no_label.csv. This is because for the Kaggle competition we need a unique identifier for every row. For instance, the first entry should be \"Belgium 9/7/2020\". The second column of the prediction csv should have the same name as the target metric (either \"next_week_increase_decrease\" or \"next_week_hospitalizations\") with your generated predictions. Your file should have 1144 total rows excluding the column names. The order should be the same as in the test_baseline/creative_no_label.csv. A sample predication file can be downloaded from Kaggle for each problem."
   ]
  },
  {
   "cell_type": "code",
   "execution_count": null,
   "metadata": {},
   "outputs": [],
   "source": [
    "# TODO\n",
    "#the submission file is the template that they posted\n",
    "final_submission = pd.read_csv('submission.csv')\n",
    "#this updated the next_Week_increase_Decrease witht the output of final_predicts\n",
    "final_submission['next_week_increase_decrease'] = final_predict\n",
    "#saves this to submission_final\n",
    "final_submission.to_csv('submission_final.csv',index = False)\n",
    "# You may use pandas to generate a dataframe with country, date and your predictions first \n",
    "# and then use to_csv to generate a CSV file.\n"
   ]
  },
  {
   "cell_type": "markdown",
   "metadata": {},
   "source": [
    "<h2>Part 5: Resources and Literature Used</h2><p>"
   ]
  },
  {
   "cell_type": "markdown",
   "metadata": {},
   "source": []
  }
 ],
 "metadata": {
  "kernelspec": {
   "display_name": "Python 3",
   "language": "python",
   "name": "python3"
  },
  "language_info": {
   "codemirror_mode": {
    "name": "ipython",
    "version": 3
   },
   "file_extension": ".py",
   "mimetype": "text/x-python",
   "name": "python",
   "nbconvert_exporter": "python",
   "pygments_lexer": "ipython3",
   "version": "3.8.5"
  }
 },
 "nbformat": 4,
 "nbformat_minor": 4
}

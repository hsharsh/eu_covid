{
 "cells": [
  {
   "cell_type": "code",
   "execution_count": 36,
   "metadata": {},
   "outputs": [
    {
     "name": "stdout",
     "output_type": "stream",
     "text": [
      "2.2.0\n"
     ]
    }
   ],
   "source": [
    "import numpy as np\n",
    "import pandas as pd\n",
    "import tensorflow as tf\n",
    "from sklearn.model_selection import train_test_split\n",
    "import matplotlib.pyplot as plt\n",
    "from sklearn.preprocessing import StandardScaler\n",
    "\n",
    "print(tf.__version__)\n",
    "%matplotlib widget"
   ]
  },
  {
   "cell_type": "code",
   "execution_count": 9,
   "metadata": {},
   "outputs": [],
   "source": [
    "df = pd.read_csv('train_baseline.csv')\n",
    "df = df.rename(columns={'Daily hospital occupancy': 'daily_hospital_occupancy'})\n",
    "pdf = pd.read_csv('test_baseline_no_label.csv')\n",
    "pdf = pdf.rename(columns={'Daily hospital occupancy': 'daily_hospital_occupancy'})"
   ]
  },
  {
   "cell_type": "code",
   "execution_count": 10,
   "metadata": {},
   "outputs": [
    {
     "data": {
      "text/html": [
       "<div>\n",
       "<style scoped>\n",
       "    .dataframe tbody tr th:only-of-type {\n",
       "        vertical-align: middle;\n",
       "    }\n",
       "\n",
       "    .dataframe tbody tr th {\n",
       "        vertical-align: top;\n",
       "    }\n",
       "\n",
       "    .dataframe thead th {\n",
       "        text-align: right;\n",
       "    }\n",
       "</style>\n",
       "<table border=\"1\" class=\"dataframe\">\n",
       "  <thead>\n",
       "    <tr style=\"text-align: right;\">\n",
       "      <th></th>\n",
       "      <th>country</th>\n",
       "      <th>date</th>\n",
       "      <th>year_week</th>\n",
       "      <th>daily_hospital_occupancy</th>\n",
       "      <th>under_15_cases</th>\n",
       "      <th>15-24_cases</th>\n",
       "      <th>25-49_cases</th>\n",
       "      <th>50-64_cases</th>\n",
       "      <th>65-79_cases</th>\n",
       "      <th>over_80_cases</th>\n",
       "      <th>next_week_increase_decrease</th>\n",
       "    </tr>\n",
       "  </thead>\n",
       "  <tbody>\n",
       "    <tr>\n",
       "      <th>0</th>\n",
       "      <td>Belgium</td>\n",
       "      <td>3/15/2020</td>\n",
       "      <td>2020-W11</td>\n",
       "      <td>263</td>\n",
       "      <td>25</td>\n",
       "      <td>44</td>\n",
       "      <td>173</td>\n",
       "      <td>97</td>\n",
       "      <td>38</td>\n",
       "      <td>10</td>\n",
       "      <td>1</td>\n",
       "    </tr>\n",
       "    <tr>\n",
       "      <th>1</th>\n",
       "      <td>Belgium</td>\n",
       "      <td>3/16/2020</td>\n",
       "      <td>2020-W12</td>\n",
       "      <td>370</td>\n",
       "      <td>31</td>\n",
       "      <td>74</td>\n",
       "      <td>568</td>\n",
       "      <td>301</td>\n",
       "      <td>193</td>\n",
       "      <td>169</td>\n",
       "      <td>1</td>\n",
       "    </tr>\n",
       "    <tr>\n",
       "      <th>2</th>\n",
       "      <td>Belgium</td>\n",
       "      <td>3/17/2020</td>\n",
       "      <td>2020-W12</td>\n",
       "      <td>493</td>\n",
       "      <td>31</td>\n",
       "      <td>74</td>\n",
       "      <td>568</td>\n",
       "      <td>301</td>\n",
       "      <td>193</td>\n",
       "      <td>169</td>\n",
       "      <td>1</td>\n",
       "    </tr>\n",
       "    <tr>\n",
       "      <th>3</th>\n",
       "      <td>Belgium</td>\n",
       "      <td>3/18/2020</td>\n",
       "      <td>2020-W12</td>\n",
       "      <td>646</td>\n",
       "      <td>31</td>\n",
       "      <td>74</td>\n",
       "      <td>568</td>\n",
       "      <td>301</td>\n",
       "      <td>193</td>\n",
       "      <td>169</td>\n",
       "      <td>1</td>\n",
       "    </tr>\n",
       "    <tr>\n",
       "      <th>4</th>\n",
       "      <td>Belgium</td>\n",
       "      <td>3/19/2020</td>\n",
       "      <td>2020-W12</td>\n",
       "      <td>840</td>\n",
       "      <td>31</td>\n",
       "      <td>74</td>\n",
       "      <td>568</td>\n",
       "      <td>301</td>\n",
       "      <td>193</td>\n",
       "      <td>169</td>\n",
       "      <td>1</td>\n",
       "    </tr>\n",
       "  </tbody>\n",
       "</table>\n",
       "</div>"
      ],
      "text/plain": [
       "   country       date year_week  daily_hospital_occupancy  under_15_cases  \\\n",
       "0  Belgium  3/15/2020  2020-W11                       263              25   \n",
       "1  Belgium  3/16/2020  2020-W12                       370              31   \n",
       "2  Belgium  3/17/2020  2020-W12                       493              31   \n",
       "3  Belgium  3/18/2020  2020-W12                       646              31   \n",
       "4  Belgium  3/19/2020  2020-W12                       840              31   \n",
       "\n",
       "   15-24_cases  25-49_cases  50-64_cases  65-79_cases  over_80_cases  \\\n",
       "0           44          173           97           38             10   \n",
       "1           74          568          301          193            169   \n",
       "2           74          568          301          193            169   \n",
       "3           74          568          301          193            169   \n",
       "4           74          568          301          193            169   \n",
       "\n",
       "   next_week_increase_decrease  \n",
       "0                            1  \n",
       "1                            1  \n",
       "2                            1  \n",
       "3                            1  \n",
       "4                            1  "
      ]
     },
     "execution_count": 10,
     "metadata": {},
     "output_type": "execute_result"
    }
   ],
   "source": [
    "df.head()"
   ]
  },
  {
   "cell_type": "code",
   "execution_count": null,
   "metadata": {},
   "outputs": [],
   "source": [
    "def preprocess_data(df, predict_df):\n",
    "    index = pdf['country']+' '+pdf['date']\n",
    "    labels = df['next_week_increase_decrease']"
   ]
  },
  {
   "cell_type": "code",
   "execution_count": 11,
   "metadata": {},
   "outputs": [],
   "source": []
  },
  {
   "cell_type": "code",
   "execution_count": 12,
   "metadata": {},
   "outputs": [],
   "source": [
    "NUMERIC_COLUMNS = ['daily_hospital_occupancy', 'under_15_cases','15-24_cases','25-49_cases','50-64_cases','65-79_cases','over_80_cases']\n",
    "CATEGORICAL_COLUMNS = ['country']\n",
    "\n",
    "data = df[CATEGORICAL_COLUMNS + NUMERIC_COLUMNS]\n",
    "\n",
    "pdata = pdf[CATEGORICAL_COLUMNS + NUMERIC_COLUMNS]"
   ]
  },
  {
   "cell_type": "code",
   "execution_count": null,
   "metadata": {},
   "outputs": [],
   "source": [
    "    test['date'] = pd.to_datetime(test['date'])\n",
    "    #test['year'] = test['date'].dt.year\n",
    "    test['month'] = test['date'].dt.month\n",
    "    test['day'] = test['date'].dt.day\n",
    "    test['week'] = test['date'].dt.week\n",
    "    test = test.drop(['date'], axis=1)"
   ]
  },
  {
   "cell_type": "code",
   "execution_count": null,
   "metadata": {},
   "outputs": [],
   "source": [
    "scaler = StandardScaler()\n",
    "df_copy[]=scaler.fit_transform(df_copy[['Daily hospital occupancy','under_15_cases','15-24_cases','25-49_cases','50-64_cases','65-79_cases','over_80_cases']])\n",
    "print(df_copy.head(15))\n",
    "\n",
    "test_copy[['Daily hospital occupancy','under_15_cases','15-24_cases','25-49_cases','50-64_cases','65-79_cases','over_80_cases']]=scaler.transform(test_copy[['Daily hospital occupancy','under_15_cases','15-24_cases','25-49_cases','50-64_cases','65-79_cases','over_80_cases']])\n",
    "print(test_copy.head(15))"
   ]
  },
  {
   "cell_type": "code",
   "execution_count": 13,
   "metadata": {},
   "outputs": [
    {
     "data": {
      "text/html": [
       "<div>\n",
       "<style scoped>\n",
       "    .dataframe tbody tr th:only-of-type {\n",
       "        vertical-align: middle;\n",
       "    }\n",
       "\n",
       "    .dataframe tbody tr th {\n",
       "        vertical-align: top;\n",
       "    }\n",
       "\n",
       "    .dataframe thead th {\n",
       "        text-align: right;\n",
       "    }\n",
       "</style>\n",
       "<table border=\"1\" class=\"dataframe\">\n",
       "  <thead>\n",
       "    <tr style=\"text-align: right;\">\n",
       "      <th></th>\n",
       "      <th>country</th>\n",
       "      <th>daily_hospital_occupancy</th>\n",
       "      <th>under_15_cases</th>\n",
       "      <th>15-24_cases</th>\n",
       "      <th>25-49_cases</th>\n",
       "      <th>50-64_cases</th>\n",
       "      <th>65-79_cases</th>\n",
       "      <th>over_80_cases</th>\n",
       "    </tr>\n",
       "  </thead>\n",
       "  <tbody>\n",
       "    <tr>\n",
       "      <th>0</th>\n",
       "      <td>Belgium</td>\n",
       "      <td>263</td>\n",
       "      <td>25</td>\n",
       "      <td>44</td>\n",
       "      <td>173</td>\n",
       "      <td>97</td>\n",
       "      <td>38</td>\n",
       "      <td>10</td>\n",
       "    </tr>\n",
       "    <tr>\n",
       "      <th>1</th>\n",
       "      <td>Belgium</td>\n",
       "      <td>370</td>\n",
       "      <td>31</td>\n",
       "      <td>74</td>\n",
       "      <td>568</td>\n",
       "      <td>301</td>\n",
       "      <td>193</td>\n",
       "      <td>169</td>\n",
       "    </tr>\n",
       "    <tr>\n",
       "      <th>2</th>\n",
       "      <td>Belgium</td>\n",
       "      <td>493</td>\n",
       "      <td>31</td>\n",
       "      <td>74</td>\n",
       "      <td>568</td>\n",
       "      <td>301</td>\n",
       "      <td>193</td>\n",
       "      <td>169</td>\n",
       "    </tr>\n",
       "    <tr>\n",
       "      <th>3</th>\n",
       "      <td>Belgium</td>\n",
       "      <td>646</td>\n",
       "      <td>31</td>\n",
       "      <td>74</td>\n",
       "      <td>568</td>\n",
       "      <td>301</td>\n",
       "      <td>193</td>\n",
       "      <td>169</td>\n",
       "    </tr>\n",
       "    <tr>\n",
       "      <th>4</th>\n",
       "      <td>Belgium</td>\n",
       "      <td>840</td>\n",
       "      <td>31</td>\n",
       "      <td>74</td>\n",
       "      <td>568</td>\n",
       "      <td>301</td>\n",
       "      <td>193</td>\n",
       "      <td>169</td>\n",
       "    </tr>\n",
       "  </tbody>\n",
       "</table>\n",
       "</div>"
      ],
      "text/plain": [
       "   country  daily_hospital_occupancy  under_15_cases  15-24_cases  \\\n",
       "0  Belgium                       263              25           44   \n",
       "1  Belgium                       370              31           74   \n",
       "2  Belgium                       493              31           74   \n",
       "3  Belgium                       646              31           74   \n",
       "4  Belgium                       840              31           74   \n",
       "\n",
       "   25-49_cases  50-64_cases  65-79_cases  over_80_cases  \n",
       "0          173           97           38             10  \n",
       "1          568          301          193            169  \n",
       "2          568          301          193            169  \n",
       "3          568          301          193            169  \n",
       "4          568          301          193            169  "
      ]
     },
     "execution_count": 13,
     "metadata": {},
     "output_type": "execute_result"
    }
   ],
   "source": [
    "data.head()"
   ]
  },
  {
   "cell_type": "code",
   "execution_count": 14,
   "metadata": {},
   "outputs": [],
   "source": [
    "data = data.sample(frac = 1, random_state = 42)"
   ]
  },
  {
   "cell_type": "code",
   "execution_count": 15,
   "metadata": {},
   "outputs": [],
   "source": [
    "# DATASET_SIZE = data.shape[0]\n",
    "# data_tf = tf.data.Dataset.from_tensor_slices((dict(data), labels))"
   ]
  },
  {
   "cell_type": "code",
   "execution_count": 16,
   "metadata": {},
   "outputs": [],
   "source": [
    "# seed = 42\n",
    "\n",
    "# train_size = int(0.7 * DATASET_SIZE)\n",
    "# val_size = int(0.15 * DATASET_SIZE)\n",
    "# test_size = int(0.15 * DATASET_SIZE)\n",
    "\n",
    "# full_data = data_tf.shuffle(buffer_size = 2*DATASET_SIZE, seed = seed)\n",
    "# train_data = full_data.take(train_size)\n",
    "# test_data = full_data.skip(train_size)\n",
    "# val_data = test_data.skip(val_size)\n",
    "# test_data = test_data.take(test_size)"
   ]
  },
  {
   "cell_type": "code",
   "execution_count": 27,
   "metadata": {},
   "outputs": [],
   "source": [
    "seed = 42\n",
    "\n",
    "train_ratio = 0.7\n",
    "validation_ratio = 0.15\n",
    "test_ratio = 0.15\n",
    "\n",
    "x_train, x_test, y_train, y_test = train_test_split(data, labels, test_size = 1 - train_ratio, random_state = seed)\n",
    "\n",
    "x_val, x_test, y_val, y_test = train_test_split(x_test, y_test, test_size=test_ratio/(test_ratio + validation_ratio), random_state = seed) "
   ]
  },
  {
   "cell_type": "code",
   "execution_count": 28,
   "metadata": {},
   "outputs": [],
   "source": [
    "# def make_input_fn(data_df, label_df, num_epochs=20, shuffle=True, batch_size=32):\n",
    "#     def input_function():\n",
    "#         ds = tf.data.Dataset.from_tensor_slices((dict(data_df), label_df))\n",
    "#         if shuffle:\n",
    "#             ds = ds.shuffle(1000)\n",
    "#         ds = ds.batch(batch_size).repeat(num_epochs)\n",
    "#         return ds\n",
    "#     return input_function\n",
    "\n",
    "# train_input_fn = make_input_fn(x_train, y_train)\n",
    "# eval_input_fn = make_input_fn(x_val, y_val, num_epochs=1, shuffle=False)\n",
    "# full_train_fn = make_input_fn(data, labels)\n",
    "\n",
    "# linear_est = tf.estimator.LinearClassifier(feature_columns=feature_columns)\n",
    "# linear_est.train(full_train_fn)\n",
    "# result = linear_est.evaluate(eval_input_fn)"
   ]
  },
  {
   "cell_type": "code",
   "execution_count": 29,
   "metadata": {},
   "outputs": [],
   "source": [
    "def create_tf_df(df, labels, shuffle = True, batch_size = 32):\n",
    "    ds = tf.data.Dataset.from_tensor_slices((dict(df), labels))\n",
    "    if shuffle:\n",
    "        ds = ds.shuffle(buffer_size = len(df))\n",
    "    ds = ds.batch(batch_size)\n",
    "    return ds\n",
    "\n",
    "def create_pdf(df, batch_size = 1):\n",
    "    ds = tf.data.Dataset.from_tensor_slices(dict(pdf))\n",
    "    ds = ds.batch(batch_size)\n",
    "    return ds\n",
    "    \n",
    "batch_size = 32\n",
    "\n",
    "train_df = create_tf_df(x_train, y_train, shuffle = False, batch_size = batch_size)\n",
    "val_df = create_tf_df(x_val, y_val, shuffle = False, batch_size = batch_size)\n",
    "test_df = create_tf_df(x_test, y_test, shuffle = False, batch_size = batch_size)\n",
    "full_df = create_tf_df(data, labels, shuffle = False, batch_size = batch_size)\n",
    "pdf_df = create_pdf(pdf)"
   ]
  },
  {
   "cell_type": "code",
   "execution_count": 30,
   "metadata": {},
   "outputs": [],
   "source": [
    "feature_columns = []\n",
    "\n",
    "for feature_name in CATEGORICAL_COLUMNS:\n",
    "    vocabulary = data[feature_name].unique()\n",
    "    feature_columns.append(tf.feature_column.indicator_column(tf.feature_column.categorical_column_with_vocabulary_list(feature_name, vocabulary)))\n",
    "\n",
    "for feature_name in NUMERIC_COLUMNS:\n",
    "    feature_columns.append(tf.feature_column.numeric_column(feature_name, dtype = tf.int32))\n",
    "\n",
    "feature_layer = tf.keras.layers.DenseFeatures(feature_columns)"
   ]
  },
  {
   "cell_type": "code",
   "execution_count": 31,
   "metadata": {},
   "outputs": [],
   "source": [
    "initial_lr = 0.001\n",
    "\n",
    "lr_schedule = tf.keras.optimizers.schedules.ExponentialDecay(\n",
    "    initial_lr,\n",
    "    decay_steps = 10000,\n",
    "    decay_rate = 0.96,\n",
    "    staircase = True)\n",
    "\n",
    "from tensorflow.keras import optimizers\n",
    "\n",
    "    \n",
    "model = tf.keras.Sequential([\n",
    "    feature_layer,\n",
    "    tf.keras.layers.Dense(10, activation = 'relu'),\n",
    "    tf.keras.layers.Dense(10, activation = 'relu'),\n",
    "    tf.keras.layers.Dense(1, activation='sigmoid')\n",
    "])\n",
    "    \n",
    "optimizer = tf.optimizers.RMSprop(learning_rate = lr_schedule)\n",
    "\n",
    "model.compile(loss = 'binary_crossentropy',\n",
    "              optimizer = optimizer,\n",
    "              metrics=['accuracy'])"
   ]
  },
  {
   "cell_type": "code",
   "execution_count": 32,
   "metadata": {
    "scrolled": true
   },
   "outputs": [
    {
     "name": "stdout",
     "output_type": "stream",
     "text": [
      "Epoch 1/20\n",
      "88/88 [==============================] - 0s 5ms/step - loss: 67.7248 - accuracy: 0.5281 - val_loss: 59.1131 - val_accuracy: 0.4916\n",
      "Epoch 2/20\n",
      "88/88 [==============================] - 0s 4ms/step - loss: 27.8779 - accuracy: 0.5231 - val_loss: 26.6198 - val_accuracy: 0.4933\n",
      "Epoch 3/20\n",
      "88/88 [==============================] - 0s 4ms/step - loss: 12.4043 - accuracy: 0.5167 - val_loss: 10.1542 - val_accuracy: 0.5268\n",
      "Epoch 4/20\n",
      "88/88 [==============================] - 0s 4ms/step - loss: 4.1092 - accuracy: 0.4930 - val_loss: 3.2452 - val_accuracy: 0.4883\n",
      "Epoch 5/20\n",
      "88/88 [==============================] - 0s 4ms/step - loss: 2.2965 - accuracy: 0.4751 - val_loss: 2.8461 - val_accuracy: 0.4465\n",
      "Epoch 6/20\n",
      "88/88 [==============================] - 0s 4ms/step - loss: 1.8147 - accuracy: 0.5195 - val_loss: 1.4968 - val_accuracy: 0.5268\n",
      "Epoch 7/20\n",
      "88/88 [==============================] - 0s 5ms/step - loss: 1.5098 - accuracy: 0.5389 - val_loss: 2.0275 - val_accuracy: 0.5217\n",
      "Epoch 8/20\n",
      "88/88 [==============================] - 0s 4ms/step - loss: 1.3841 - accuracy: 0.5590 - val_loss: 1.3341 - val_accuracy: 0.5385\n",
      "Epoch 9/20\n",
      "88/88 [==============================] - 0s 5ms/step - loss: 1.3010 - accuracy: 0.5532 - val_loss: 1.2362 - val_accuracy: 0.5234\n",
      "Epoch 10/20\n",
      "88/88 [==============================] - 0s 5ms/step - loss: 1.2895 - accuracy: 0.5540 - val_loss: 1.0415 - val_accuracy: 0.5217\n",
      "Epoch 11/20\n",
      "88/88 [==============================] - 0s 5ms/step - loss: 1.2458 - accuracy: 0.5583 - val_loss: 1.0672 - val_accuracy: 0.5268\n",
      "Epoch 12/20\n",
      "88/88 [==============================] - 0s 5ms/step - loss: 1.2043 - accuracy: 0.5619 - val_loss: 0.9522 - val_accuracy: 0.5284\n",
      "Epoch 13/20\n",
      "88/88 [==============================] - 1s 6ms/step - loss: 1.2313 - accuracy: 0.5626 - val_loss: 1.3472 - val_accuracy: 0.5217\n",
      "Epoch 14/20\n",
      "88/88 [==============================] - 1s 7ms/step - loss: 1.1844 - accuracy: 0.5615 - val_loss: 1.2751 - val_accuracy: 0.5217\n",
      "Epoch 15/20\n",
      "88/88 [==============================] - 1s 7ms/step - loss: 1.1676 - accuracy: 0.5619 - val_loss: 1.3280 - val_accuracy: 0.5167\n",
      "Epoch 16/20\n",
      "88/88 [==============================] - 1s 7ms/step - loss: 1.1666 - accuracy: 0.5629 - val_loss: 1.2308 - val_accuracy: 0.5234\n",
      "Epoch 17/20\n",
      "88/88 [==============================] - 1s 7ms/step - loss: 1.1450 - accuracy: 0.5633 - val_loss: 1.1473 - val_accuracy: 0.5217\n",
      "Epoch 18/20\n",
      "88/88 [==============================] - 1s 8ms/step - loss: 1.1234 - accuracy: 0.5633 - val_loss: 1.1601 - val_accuracy: 0.5201\n",
      "Epoch 19/20\n",
      "88/88 [==============================] - 1s 7ms/step - loss: 1.1080 - accuracy: 0.5644 - val_loss: 1.2350 - val_accuracy: 0.5167\n",
      "Epoch 20/20\n",
      "88/88 [==============================] - 1s 7ms/step - loss: 1.1148 - accuracy: 0.5629 - val_loss: 1.2496 - val_accuracy: 0.5184\n"
     ]
    }
   ],
   "source": [
    "history = model.fit(train_df, validation_data = val_df, epochs = 20)"
   ]
  },
  {
   "cell_type": "code",
   "execution_count": 33,
   "metadata": {},
   "outputs": [
    {
     "name": "stdout",
     "output_type": "stream",
     "text": [
      "dict_keys(['loss', 'accuracy', 'val_loss', 'val_accuracy'])\n"
     ]
    },
    {
     "data": {
      "application/vnd.jupyter.widget-view+json": {
       "model_id": "5fe56b8d81824f30a0b603fad850542e",
       "version_major": 2,
       "version_minor": 0
      },
      "text/plain": [
       "Canvas(toolbar=Toolbar(toolitems=[('Home', 'Reset original view', 'home', 'home'), ('Back', 'Back to previous …"
      ]
     },
     "metadata": {},
     "output_type": "display_data"
    }
   ],
   "source": [
    "print(history.history.keys())\n",
    "#  \"Accuracy\"\n",
    "plt.figure()\n",
    "plt.plot(history.history['accuracy'])\n",
    "plt.plot(history.history['val_accuracy'])\n",
    "plt.title('model accuracy')\n",
    "plt.ylabel('accuracy')\n",
    "plt.xlabel('epoch')\n",
    "plt.legend(['train', 'validation'], loc='upper left')\n",
    "plt.show()\n",
    "# # \"Loss\"\n",
    "# plt.plot(history.history['loss'])\n",
    "# plt.plot(history.history['val_loss'])\n",
    "# plt.title('model loss')\n",
    "# plt.ylabel('loss')\n",
    "# plt.xlabel('epoch')\n",
    "# plt.legend(['train', 'validation'], loc='upper left')\n",
    "# plt.show()"
   ]
  },
  {
   "cell_type": "code",
   "execution_count": 34,
   "metadata": {},
   "outputs": [
    {
     "name": "stdout",
     "output_type": "stream",
     "text": [
      "19/19 [==============================] - 0s 2ms/step - loss: 0.9189 - accuracy: 0.5535\n"
     ]
    },
    {
     "data": {
      "text/plain": [
       "[0.91888028383255, 0.5535116791725159]"
      ]
     },
     "execution_count": 34,
     "metadata": {},
     "output_type": "execute_result"
    }
   ],
   "source": [
    "model.evaluate(test_df)"
   ]
  },
  {
   "cell_type": "code",
   "execution_count": 35,
   "metadata": {},
   "outputs": [],
   "source": [
    "y = model.predict(pdf_df)"
   ]
  },
  {
   "cell_type": "code",
   "execution_count": 26,
   "metadata": {},
   "outputs": [],
   "source": [
    "submit = {'country_id': index, 'next_week_increase_decrease':y.astype(int).flatten()}"
   ]
  },
  {
   "cell_type": "code",
   "execution_count": 117,
   "metadata": {},
   "outputs": [],
   "source": [
    "sdf = pd.DataFrame(data = submit)"
   ]
  },
  {
   "cell_type": "code",
   "execution_count": 118,
   "metadata": {},
   "outputs": [
    {
     "data": {
      "text/html": [
       "<div>\n",
       "<style scoped>\n",
       "    .dataframe tbody tr th:only-of-type {\n",
       "        vertical-align: middle;\n",
       "    }\n",
       "\n",
       "    .dataframe tbody tr th {\n",
       "        vertical-align: top;\n",
       "    }\n",
       "\n",
       "    .dataframe thead th {\n",
       "        text-align: right;\n",
       "    }\n",
       "</style>\n",
       "<table border=\"1\" class=\"dataframe\">\n",
       "  <thead>\n",
       "    <tr style=\"text-align: right;\">\n",
       "      <th></th>\n",
       "      <th>country_id</th>\n",
       "      <th>next_week_increase_decrease</th>\n",
       "    </tr>\n",
       "  </thead>\n",
       "  <tbody>\n",
       "    <tr>\n",
       "      <th>0</th>\n",
       "      <td>Belgium 9/7/2020</td>\n",
       "      <td>0</td>\n",
       "    </tr>\n",
       "    <tr>\n",
       "      <th>1</th>\n",
       "      <td>Belgium 9/8/2020</td>\n",
       "      <td>0</td>\n",
       "    </tr>\n",
       "    <tr>\n",
       "      <th>2</th>\n",
       "      <td>Belgium 9/9/2020</td>\n",
       "      <td>0</td>\n",
       "    </tr>\n",
       "    <tr>\n",
       "      <th>3</th>\n",
       "      <td>Belgium 9/10/2020</td>\n",
       "      <td>0</td>\n",
       "    </tr>\n",
       "    <tr>\n",
       "      <th>4</th>\n",
       "      <td>Belgium 9/11/2020</td>\n",
       "      <td>0</td>\n",
       "    </tr>\n",
       "    <tr>\n",
       "      <th>...</th>\n",
       "      <td>...</td>\n",
       "      <td>...</td>\n",
       "    </tr>\n",
       "    <tr>\n",
       "      <th>1139</th>\n",
       "      <td>Spain 3/5/2021</td>\n",
       "      <td>0</td>\n",
       "    </tr>\n",
       "    <tr>\n",
       "      <th>1140</th>\n",
       "      <td>Spain 3/8/2021</td>\n",
       "      <td>0</td>\n",
       "    </tr>\n",
       "    <tr>\n",
       "      <th>1141</th>\n",
       "      <td>Spain 3/9/2021</td>\n",
       "      <td>0</td>\n",
       "    </tr>\n",
       "    <tr>\n",
       "      <th>1142</th>\n",
       "      <td>Spain 3/10/2021</td>\n",
       "      <td>0</td>\n",
       "    </tr>\n",
       "    <tr>\n",
       "      <th>1143</th>\n",
       "      <td>Spain 3/11/2021</td>\n",
       "      <td>0</td>\n",
       "    </tr>\n",
       "  </tbody>\n",
       "</table>\n",
       "<p>1144 rows × 2 columns</p>\n",
       "</div>"
      ],
      "text/plain": [
       "             country_id  next_week_increase_decrease\n",
       "0      Belgium 9/7/2020                            0\n",
       "1      Belgium 9/8/2020                            0\n",
       "2      Belgium 9/9/2020                            0\n",
       "3     Belgium 9/10/2020                            0\n",
       "4     Belgium 9/11/2020                            0\n",
       "...                 ...                          ...\n",
       "1139     Spain 3/5/2021                            0\n",
       "1140     Spain 3/8/2021                            0\n",
       "1141     Spain 3/9/2021                            0\n",
       "1142    Spain 3/10/2021                            0\n",
       "1143    Spain 3/11/2021                            0\n",
       "\n",
       "[1144 rows x 2 columns]"
      ]
     },
     "execution_count": 118,
     "metadata": {},
     "output_type": "execute_result"
    }
   ],
   "source": [
    "sdf"
   ]
  },
  {
   "cell_type": "code",
   "execution_count": 119,
   "metadata": {},
   "outputs": [],
   "source": [
    "sdf.to_csv('submit.csv',index = False)"
   ]
  },
  {
   "cell_type": "code",
   "execution_count": null,
   "metadata": {},
   "outputs": [],
   "source": []
  }
 ],
 "metadata": {
  "kernelspec": {
   "display_name": "Python 3",
   "language": "python",
   "name": "python3"
  },
  "language_info": {
   "codemirror_mode": {
    "name": "ipython",
    "version": 3
   },
   "file_extension": ".py",
   "mimetype": "text/x-python",
   "name": "python",
   "nbconvert_exporter": "python",
   "pygments_lexer": "ipython3",
   "version": "3.8.5"
  }
 },
 "nbformat": 4,
 "nbformat_minor": 4
}
